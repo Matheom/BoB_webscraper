{
 "cells": [
  {
   "cell_type": "markdown",
   "metadata": {},
   "source": [
    "# Bid or Buy EDA"
   ]
  },
  {
   "cell_type": "markdown",
   "metadata": {},
   "source": [
    "Step 1: import all csv files, concatenate and dedupe"
   ]
  },
  {
   "cell_type": "code",
   "execution_count": 1,
   "metadata": {
    "collapsed": false
   },
   "outputs": [
    {
     "name": "stderr",
     "output_type": "stream",
     "text": [
      "/home/matthew/anaconda3/lib/python3.6/site-packages/IPython/core/interactiveshell.py:2881: FutureWarning: \n",
      "mpl_style had been deprecated and will be removed in a future version.\n",
      "Use `matplotlib.pyplot.style.use` instead.\n",
      "\n",
      "  exec(code_obj, self.user_global_ns, self.user_ns)\n"
     ]
    }
   ],
   "source": [
    "import glob\n",
    "%matplotlib inline \n",
    "\n",
    "import pandas as pd\n",
    "import pandasql\n",
    "import numpy as np\n",
    "import matplotlib.pyplot as plt\n",
    "from scipy.stats import chisquare\n",
    "import seaborn as sns\n",
    "from os import path\n",
    "from wordcloud import WordCloud, STOPWORDS\n",
    "import sys\n",
    "\n",
    "pd.options.display.mpl_style = 'default'"
   ]
  },
  {
   "cell_type": "code",
   "execution_count": 2,
   "metadata": {
    "collapsed": false
   },
   "outputs": [
    {
     "name": "stderr",
     "output_type": "stream",
     "text": [
      "/home/matthew/anaconda3/lib/python3.6/site-packages/ipykernel/__main__.py:16: SettingWithCopyWarning: \n",
      "A value is trying to be set on a copy of a slice from a DataFrame.\n",
      "Try using .loc[row_indexer,col_indexer] = value instead\n",
      "\n",
      "See the caveats in the documentation: http://pandas.pydata.org/pandas-docs/stable/indexing.html#indexing-view-versus-copy\n"
     ]
    }
   ],
   "source": [
    "path =r'/home/matthew/Downloads' # use your path\n",
    "allFiles = glob.glob(path + \"/*.csv\")\n",
    "frame = pd.DataFrame()\n",
    "list_ = []\n",
    "for file_ in allFiles:\n",
    "    df = pd.read_csv(file_,index_col=None, header=0)\n",
    "    list_.append(df)\n",
    "\n",
    "frame = pd.concat(list_)\n",
    "\n",
    "\n",
    "frame2 = frame.drop('Unnamed: 0', 1)\n",
    "\n",
    "base = pd.DataFrame.drop_duplicates(frame2) #dedupe\n",
    "\n",
    "base['sellers'] = base['buyer']\n",
    "base = base.drop('buyer', 1)\n",
    "\n",
    "base['cat3']=base['cat3'].fillna('n/a')\n",
    "base['cat2']=base['cat2'].fillna('n/a')\n",
    "\n",
    "\n",
    "base['c123'] = base['cat1'] + 'll' + base['cat2']  + 'll' + base['cat3']"
   ]
  },
  {
   "cell_type": "code",
   "execution_count": 3,
   "metadata": {
    "collapsed": false
   },
   "outputs": [
    {
     "data": {
      "text/plain": [
       "(386354, 12)"
      ]
     },
     "execution_count": 3,
     "metadata": {},
     "output_type": "execute_result"
    }
   ],
   "source": [
    "sellers = pd.read_csv('sellers.csv')\n",
    "base = pd.merge(base, sellers, on='sellers', how = 'left')\n",
    "base.Dropshipper.fillna(0, inplace = True)\n",
    "base.shape"
   ]
  },
  {
   "cell_type": "markdown",
   "metadata": {},
   "source": [
    "# Category Analysis"
   ]
  },
  {
   "cell_type": "code",
   "execution_count": 4,
   "metadata": {
    "collapsed": false
   },
   "outputs": [],
   "source": [
    "base_cat = base.loc[(base.cat2 == 'Cell Phones & Smartphones') & (base.price > 1000)]"
   ]
  },
  {
   "cell_type": "code",
   "execution_count": 5,
   "metadata": {
    "collapsed": false
   },
   "outputs": [],
   "source": [
    "q = \"\"\"SELECT  case when title like '%samsung%' then 'samsung'\n",
    "                    when title like '%sony%' then 'sony'\n",
    "                    when title like '%xiaomi%' then 'xiaomi'\n",
    "                    when title like '%redmi%' then 'xiaomi'\n",
    "                    when title like '%lenovo%' then 'lenovo'\n",
    "                    when title like '%apple%' then 'apple'\n",
    "                    when title like '%iphone%' then 'iphone'\n",
    "                    when title like '%oneplus%' then 'oneplus'\n",
    "                    when title like '%asus%' then 'asus'\n",
    "                    when title like '%huawei%' then 'huawei'\n",
    "                    when title like '%blackberry%' then 'blackberry'\n",
    "                    when title like '%nokia%' then 'nokia'\n",
    "                    when title like '%htc%' then 'htc_BG'\n",
    "                    when title like '%caterpillar%' then 'caterpillar'\n",
    "                    when title like '%lg%' then 'LG'\n",
    "                    when title like '%google%' then 'Google'\n",
    "                    when title like '%galaxy%' then 'samsung'\n",
    "                    when title like '%hisense%' then 'hisense'\n",
    "                    when title like '%letv%' then 'LeTV'\n",
    "                    when title like '%meizu%' then 'Meizu'  \n",
    "                    when title like '%doogee%' then 'DOOGEE'\n",
    "                    when title like '%umi rome%' then 'umiRome' \n",
    "                    when title like '%umi super%' then 'umisuper'\n",
    "                    when title like '%umi plus%' then 'umiplus'\n",
    "                    when title like '%wileyfox%' then 'wileyfox'\n",
    "                    when title like '%microsoft%' then 'microsoft'\n",
    "                    when title like '%motorola%' then 'Motorola'   \n",
    "                    when title like '%bluboo%' then 'Bluboo'\n",
    "                    when title like '%vkworld%' then 'vkworld'\n",
    "                    when title like '%oukitel%' then 'OUKITEL'\n",
    "                    when title like '%mann zugg%' then 'MANN ZUG'\n",
    "                    when title like '%snopow%' then 'snopow'\n",
    "                    \n",
    "                    when title like '%smartwatch%' then 'none'                                   \n",
    "                    else 'none' end as make,\n",
    "                    \n",
    "                title,\n",
    "                month,\n",
    "                price,\n",
    "                sellers,\n",
    "                dropshipper\n",
    "                \n",
    "      FROM base_cat\n",
    "      \n",
    "      WHERE make not in (\"none\")\n",
    "      \n",
    "      ;\"\"\"\n",
    "    \n",
    "base_phone = pandasql.sqldf(q.lower(), locals())"
   ]
  },
  {
   "cell_type": "code",
   "execution_count": 16,
   "metadata": {
    "collapsed": false
   },
   "outputs": [
    {
     "name": "stderr",
     "output_type": "stream",
     "text": [
      "/home/matthew/anaconda3/lib/python3.6/site-packages/seaborn/categorical.py:3367: UserWarning: The `x_order` parameter has been renamed `order`\n",
      "  UserWarning)\n",
      "/home/matthew/anaconda3/lib/python3.6/site-packages/matplotlib/font_manager.py:1297: UserWarning: findfont: Font family ['monospace'] not found. Falling back to DejaVu Sans\n",
      "  (prop.get_family(), self.defaultFamily[fontext]))\n"
     ]
    },
    {
     "data": {
      "text/plain": [
       "<seaborn.axisgrid.FacetGrid at 0x7fb59a8b9ba8>"
      ]
     },
     "execution_count": 16,
     "metadata": {},
     "output_type": "execute_result"
    },
    {
     "data": {
      "image/png": "[encoded data removed]",
      "text/plain": [
       "<matplotlib.figure.Figure at 0x7fb59ac96f60>"
      ]
     },
     "metadata": {},
     "output_type": "display_data"
    }
   ],
   "source": [
    "MS = \"\"\"SELECT  sum(price)/1000000 as randvalue,\n",
    "                            month\n",
    "                \n",
    "      FROM base_phone\n",
    "      \n",
    "      \n",
    "      \n",
    "      GROUP BY month\n",
    "      \n",
    "      ;\"\"\"\n",
    "    \n",
    "marketshare = pandasql.sqldf(MS.lower(), locals())\n",
    "g = sns.factorplot(x=\"month\", y=\"randvalue\", x_order=['Dec','Jan', 'Feb','Mar', 'Apr'], set_ylim = 0, data=marketshare, size=4, aspect=2)\n",
    "g.set(ylim=(0, None))"
   ]
  },
  {
   "cell_type": "code",
   "execution_count": 17,
   "metadata": {
    "collapsed": false
   },
   "outputs": [
    {
     "data": {
      "text/plain": [
       "<matplotlib.axes._subplots.AxesSubplot at 0x7fb59ad761d0>"
      ]
     },
     "execution_count": 17,
     "metadata": {},
     "output_type": "execute_result"
    },
    {
     "name": "stderr",
     "output_type": "stream",
     "text": [
      "/home/matthew/anaconda3/lib/python3.6/site-packages/matplotlib/font_manager.py:1297: UserWarning: findfont: Font family ['monospace'] not found. Falling back to DejaVu Sans\n",
      "  (prop.get_family(), self.defaultFamily[fontext]))\n"
     ]
    },
    {
     "data": {
      "image/png": "[encoded data removed]",
      "text/plain": [
       "<matplotlib.figure.Figure at 0x7fb59a99b2b0>"
      ]
     },
     "metadata": {},
     "output_type": "display_data"
    }
   ],
   "source": [
    "#overall, what are the top makes\n",
    "\n",
    "x = \"\"\"SELECT  sum(price) as randvalue, make\n",
    "                \n",
    "      FROM base_phone                \n",
    "                 \n",
    "    group by  \n",
    "            make      \n",
    "      ;\"\"\"\n",
    "    \n",
    "#marketshare.head()\n",
    "brand = pandasql.sqldf(x.lower(), locals())\n",
    "#\n",
    "x = \"\"\"SELECT  *\n",
    "                \n",
    "      FROM brand    where randvalue > 50000/1000            \n",
    "   \n",
    "      ;\"\"\"\n",
    "    \n",
    "#marketshare.head()\n",
    "brand2 = pandasql.sqldf(x.lower(), locals())\n",
    "#xiaomi_contained = xiaomi.loc[(Seller_share.randvalue > 15)]\n",
    "#Seller_share.head(10)\n",
    "sns.barplot(x=\"randvalue\", y=\"make\", data = brand2)  "
   ]
  },
  {
   "cell_type": "code",
   "execution_count": 21,
   "metadata": {
    "collapsed": false
   },
   "outputs": [
    {
     "data": {
      "text/plain": [
       "<matplotlib.axes._subplots.AxesSubplot at 0x7fb597068940>"
      ]
     },
     "execution_count": 21,
     "metadata": {},
     "output_type": "execute_result"
    },
    {
     "name": "stderr",
     "output_type": "stream",
     "text": [
      "/home/matthew/anaconda3/lib/python3.6/site-packages/matplotlib/font_manager.py:1297: UserWarning: findfont: Font family ['monospace'] not found. Falling back to DejaVu Sans\n",
      "  (prop.get_family(), self.defaultFamily[fontext]))\n"
     ]
    },
    {
     "data": {
      "image/png": "[encoded data removed]",
      "text/plain": [
       "<matplotlib.figure.Figure at 0x7fb5972d09e8>"
      ]
     },
     "metadata": {},
     "output_type": "display_data"
    }
   ],
   "source": [
    "#overall, who are the top sellers of cellphones\n",
    "\n",
    "x = \"\"\"SELECT  sum(price) as randvalue, sellers\n",
    "                \n",
    "      FROM base_phone          where month like '%apr%'     \n",
    "                 \n",
    "    group by  \n",
    "            sellers      \n",
    "      ;\"\"\"\n",
    "    \n",
    "#marketshare.head()\n",
    "brand = pandasql.sqldf(x.lower(), locals())\n",
    "#\n",
    "x = \"\"\"SELECT  *\n",
    "                \n",
    "      FROM brand    where randvalue > 100000           \n",
    "   \n",
    "      ;\"\"\"\n",
    "    \n",
    "#marketshare.head()\n",
    "brand2 = pandasql.sqldf(x.lower(), locals())\n",
    "#xiaomi_contained = xiaomi.loc[(Seller_share.randvalue > 15)]\n",
    "#Seller_share.head(10)\n",
    "sns.barplot(x=\"randvalue\", y=\"sellers\", data = brand2)  "
   ]
  },
  {
   "cell_type": "markdown",
   "metadata": {},
   "source": [
    "# Let's look at only BG phone sales market"
   ]
  },
  {
   "cell_type": "markdown",
   "metadata": {},
   "source": [
    "Above is total marketshare of cellphone sales\n",
    "\n",
    "I am only interested in phones I can get off Banggood - next SQL query focuses on this"
   ]
  },
  {
   "cell_type": "code",
   "execution_count": 22,
   "metadata": {
    "collapsed": false
   },
   "outputs": [],
   "source": [
    "BG = \"\"\"SELECT  *\n",
    "                \n",
    "      FROM base_phone\n",
    "      \n",
    "      WHERE make in (\"umi\",\"xiaomi\",\"LeTV\",\"DOOGEE\",\n",
    "                      \"LeTV\",\"lenovo\", \"snopow\", \"MANN ZUG\", \"umiRome\",\n",
    "                        \"vkworld\",\"Bluboo\",\"Meizu\",\"oneplus\", \"umisuper\" )      \n",
    "      ;\"\"\"\n",
    "    \n",
    "bg_base = pandasql.sqldf(BG.lower(), locals())"
   ]
  },
  {
   "cell_type": "code",
   "execution_count": 23,
   "metadata": {
    "collapsed": false
   },
   "outputs": [
    {
     "name": "stderr",
     "output_type": "stream",
     "text": [
      "/home/matthew/anaconda3/lib/python3.6/site-packages/seaborn/categorical.py:3367: UserWarning: The `x_order` parameter has been renamed `order`\n",
      "  UserWarning)\n",
      "/home/matthew/anaconda3/lib/python3.6/site-packages/matplotlib/font_manager.py:1297: UserWarning: findfont: Font family ['monospace'] not found. Falling back to DejaVu Sans\n",
      "  (prop.get_family(), self.defaultFamily[fontext]))\n"
     ]
    },
    {
     "data": {
      "text/plain": [
       "<seaborn.axisgrid.FacetGrid at 0x7fb596e26358>"
      ]
     },
     "execution_count": 23,
     "metadata": {},
     "output_type": "execute_result"
    },
    {
     "data": {
      "image/png": "[encoded data removed]",
      "text/plain": [
       "<matplotlib.figure.Figure at 0x7fb596e269b0>"
      ]
     },
     "metadata": {},
     "output_type": "display_data"
    }
   ],
   "source": [
    "MS = \"\"\"SELECT  sum(price)/1000 as randvalue,\n",
    "                            month\n",
    "                \n",
    "      FROM bg_base\n",
    "      \n",
    "      GROUP BY month\n",
    "      \n",
    "      ;\"\"\"\n",
    "    \n",
    "marketshare = pandasql.sqldf(MS.lower(), locals())\n",
    "sns.factorplot(x=\"month\", y=\"randvalue\", x_order=['Nov','Dec','Jan', 'Feb','Mar', 'Apr'], data=marketshare, size=4, aspect=2)"
   ]
  },
  {
   "cell_type": "code",
   "execution_count": 24,
   "metadata": {
    "collapsed": false
   },
   "outputs": [
    {
     "name": "stderr",
     "output_type": "stream",
     "text": [
      "/home/matthew/anaconda3/lib/python3.6/site-packages/seaborn/categorical.py:3367: UserWarning: The `x_order` parameter has been renamed `order`\n",
      "  UserWarning)\n",
      "/home/matthew/anaconda3/lib/python3.6/site-packages/matplotlib/font_manager.py:1297: UserWarning: findfont: Font family ['monospace'] not found. Falling back to DejaVu Sans\n",
      "  (prop.get_family(), self.defaultFamily[fontext]))\n"
     ]
    },
    {
     "data": {
      "text/plain": [
       "<seaborn.axisgrid.FacetGrid at 0x7fb59719d6a0>"
      ]
     },
     "execution_count": 24,
     "metadata": {},
     "output_type": "execute_result"
    },
    {
     "data": {
      "image/png": "[encoded data removed]",
      "text/plain": [
       "<matplotlib.figure.Figure at 0x7fb596caa5c0>"
      ]
     },
     "metadata": {},
     "output_type": "display_data"
    }
   ],
   "source": [
    "MS = \"\"\"SELECT  sum(price)/1000 as randvalue,\n",
    "                            month,\n",
    "                            Dropshipper\n",
    "                \n",
    "      FROM bg_base\n",
    "      \n",
    "      GROUP BY month, Dropshipper\n",
    "      \n",
    "      ;\"\"\"\n",
    "    \n",
    "marketshare = pandasql.sqldf(MS.lower(), locals())\n",
    "sns.factorplot(x=\"month\", y=\"randvalue\", hue = 'Dropshipper', x_order=['Nov','Dec','Jan', 'Feb','Mar', 'Apr'], data=marketshare, size=4, aspect=2)"
   ]
  },
  {
   "cell_type": "code",
   "execution_count": 25,
   "metadata": {
    "collapsed": false
   },
   "outputs": [
    {
     "name": "stderr",
     "output_type": "stream",
     "text": [
      "/home/matthew/anaconda3/lib/python3.6/site-packages/seaborn/categorical.py:3367: UserWarning: The `x_order` parameter has been renamed `order`\n",
      "  UserWarning)\n",
      "/home/matthew/anaconda3/lib/python3.6/site-packages/matplotlib/font_manager.py:1297: UserWarning: findfont: Font family ['monospace'] not found. Falling back to DejaVu Sans\n",
      "  (prop.get_family(), self.defaultFamily[fontext]))\n"
     ]
    },
    {
     "data": {
      "text/plain": [
       "<seaborn.axisgrid.FacetGrid at 0x7fb5972b3860>"
      ]
     },
     "execution_count": 25,
     "metadata": {},
     "output_type": "execute_result"
    },
    {
     "data": {
      "image/png": "[encoded data removed]",
      "text/plain": [
       "<matplotlib.figure.Figure at 0x7fb5971a43c8>"
      ]
     },
     "metadata": {},
     "output_type": "display_data"
    }
   ],
   "source": [
    "#overall, who are the top sellers of BG cellphones\n",
    "\n",
    "x = \"\"\"SELECT  sum(price) as randvalue, sellers, month\n",
    "                \n",
    "      FROM bg_base               \n",
    "                 \n",
    "    group by  \n",
    "            sellers, month      \n",
    "      ;\"\"\"\n",
    "    \n",
    "#marketshare.head()\n",
    "brand = pandasql.sqldf(x.lower(), locals())\n",
    "#\n",
    "x = \"\"\"SELECT  *\n",
    "                \n",
    "      FROM brand    where randvalue > 5000           \n",
    "   \n",
    "      ;\"\"\"\n",
    "    \n",
    "#marketshare.head()\n",
    "brand2 = pandasql.sqldf(x.lower(), locals())\n",
    "#xiaomi_contained = xiaomi.loc[(Seller_share.randvalue > 15)]\n",
    "#Seller_share.head(10)\n",
    "sns.factorplot(x=\"month\", y=\"randvalue\", hue=\"sellers\", x_order=[ 'Apr'], size=4, aspect=3, data = brand2)  "
   ]
  },
  {
   "cell_type": "code",
   "execution_count": 26,
   "metadata": {
    "collapsed": false
   },
   "outputs": [
    {
     "name": "stderr",
     "output_type": "stream",
     "text": [
      "/home/matthew/anaconda3/lib/python3.6/site-packages/seaborn/categorical.py:3367: UserWarning: The `x_order` parameter has been renamed `order`\n",
      "  UserWarning)\n",
      "/home/matthew/anaconda3/lib/python3.6/site-packages/matplotlib/font_manager.py:1297: UserWarning: findfont: Font family ['monospace'] not found. Falling back to DejaVu Sans\n",
      "  (prop.get_family(), self.defaultFamily[fontext]))\n"
     ]
    },
    {
     "data": {
      "text/plain": [
       "<seaborn.axisgrid.FacetGrid at 0x7fb5929d4860>"
      ]
     },
     "execution_count": 26,
     "metadata": {},
     "output_type": "execute_result"
    },
    {
     "data": {
      "image/png": "[encoded data removed]",
      "text/plain": [
       "<matplotlib.figure.Figure at 0x7fb5929d45f8>"
      ]
     },
     "metadata": {},
     "output_type": "display_data"
    }
   ],
   "source": [
    "MS = \"\"\"SELECT  count(*) as volume,\n",
    "                            month,\n",
    "                            make\n",
    "                \n",
    "      FROM bg_base\n",
    "      \n",
    "      \n",
    "      GROUP BY month, make\n",
    "      \n",
    "      ;\"\"\"\n",
    "    \n",
    "marketshare = pandasql.sqldf(MS.lower(), locals())\n",
    "\n",
    "marketshare1 = marketshare.loc[marketshare.volume > 4]\n",
    "sns.factorplot(x=\"month\", y=\"volume\", hue = 'make', x_order=['Dec','Jan', 'Feb','Mar','Apr'], data=marketshare1, size=4, aspect=3)\n",
    "\n",
    "#where make not in (\"umisuper\",\"meizu\",\"letv\")"
   ]
  },
  {
   "cell_type": "code",
   "execution_count": 27,
   "metadata": {
    "collapsed": false
   },
   "outputs": [
    {
     "data": {
      "text/html": [
       "<div>\n",
       "<table border=\"1\" class=\"dataframe\">\n",
       "  <thead>\n",
       "    <tr style=\"text-align: right;\">\n",
       "      <th></th>\n",
       "      <th>volume</th>\n",
       "      <th>avg_price</th>\n",
       "      <th>make</th>\n",
       "    </tr>\n",
       "  </thead>\n",
       "  <tbody>\n",
       "    <tr>\n",
       "      <th>0</th>\n",
       "      <td>1</td>\n",
       "      <td>1900.000000</td>\n",
       "      <td>bluboo</td>\n",
       "    </tr>\n",
       "    <tr>\n",
       "      <th>1</th>\n",
       "      <td>7</td>\n",
       "      <td>2316.142857</td>\n",
       "      <td>lenovo</td>\n",
       "    </tr>\n",
       "    <tr>\n",
       "      <th>2</th>\n",
       "      <td>1</td>\n",
       "      <td>1300.000000</td>\n",
       "      <td>meizu</td>\n",
       "    </tr>\n",
       "    <tr>\n",
       "      <th>3</th>\n",
       "      <td>4</td>\n",
       "      <td>8274.500000</td>\n",
       "      <td>oneplus</td>\n",
       "    </tr>\n",
       "    <tr>\n",
       "      <th>4</th>\n",
       "      <td>7</td>\n",
       "      <td>1512.571429</td>\n",
       "      <td>umirome</td>\n",
       "    </tr>\n",
       "    <tr>\n",
       "      <th>5</th>\n",
       "      <td>9</td>\n",
       "      <td>3092.666667</td>\n",
       "      <td>xiaomi</td>\n",
       "    </tr>\n",
       "  </tbody>\n",
       "</table>\n",
       "</div>"
      ],
      "text/plain": [
       "   volume    avg_price     make\n",
       "0       1  1900.000000   bluboo\n",
       "1       7  2316.142857   lenovo\n",
       "2       1  1300.000000    meizu\n",
       "3       4  8274.500000  oneplus\n",
       "4       7  1512.571429  umirome\n",
       "5       9  3092.666667   xiaomi"
      ]
     },
     "execution_count": 27,
     "metadata": {},
     "output_type": "execute_result"
    }
   ],
   "source": [
    "q = \"\"\"SELECT  count(*) as volume,\n",
    "                sum(price)/count(*) as avg_price,\n",
    "                make\n",
    "                \n",
    "      FROM bg_base where month like '%apr%'\n",
    "      \n",
    "      group by make\n",
    "\n",
    "      \n",
    "      ;\"\"\"\n",
    "    \n",
    "marketshare = pandasql.sqldf(q.lower(), locals())\n",
    "marketshare"
   ]
  },
  {
   "cell_type": "code",
   "execution_count": 29,
   "metadata": {
    "collapsed": false
   },
   "outputs": [
    {
     "data": {
      "text/plain": [
       "<matplotlib.axes._subplots.AxesSubplot at 0x7fb5926cf160>"
      ]
     },
     "execution_count": 29,
     "metadata": {},
     "output_type": "execute_result"
    },
    {
     "name": "stderr",
     "output_type": "stream",
     "text": [
      "/home/matthew/anaconda3/lib/python3.6/site-packages/matplotlib/font_manager.py:1297: UserWarning: findfont: Font family ['monospace'] not found. Falling back to DejaVu Sans\n",
      "  (prop.get_family(), self.defaultFamily[fontext]))\n"
     ]
    },
    {
     "data": {
      "image/png": "[encoded data removed]",
      "text/plain": [
       "<matplotlib.figure.Figure at 0x7fb592860400>"
      ]
     },
     "metadata": {},
     "output_type": "display_data"
    }
   ],
   "source": [
    "price = \"\"\"SELECT  price, make\n",
    "                \n",
    "      FROM bg_base where month like '%apr%'\n",
    "      \n",
    "      ;\"\"\"\n",
    "    \n",
    "pricing = pandasql.sqldf(price.lower(), locals())\n",
    "sns.boxplot(y=\"make\", x=\"price\", data=pricing)"
   ]
  },
  {
   "cell_type": "markdown",
   "metadata": {},
   "source": [
    "Cool, clearly of the banggood phones Xiaomi has greatest demand\n"
   ]
  },
  {
   "cell_type": "markdown",
   "metadata": {},
   "source": [
    "only focus on xiaomi and let's see the sellers. We can use this information to see the leading sellers business models"
   ]
  },
  {
   "cell_type": "code",
   "execution_count": 30,
   "metadata": {
    "collapsed": false
   },
   "outputs": [
    {
     "name": "stderr",
     "output_type": "stream",
     "text": [
      "/home/matthew/anaconda3/lib/python3.6/site-packages/seaborn/categorical.py:3367: UserWarning: The `x_order` parameter has been renamed `order`\n",
      "  UserWarning)\n",
      "/home/matthew/anaconda3/lib/python3.6/site-packages/matplotlib/font_manager.py:1297: UserWarning: findfont: Font family ['monospace'] not found. Falling back to DejaVu Sans\n",
      "  (prop.get_family(), self.defaultFamily[fontext]))\n"
     ]
    },
    {
     "data": {
      "text/plain": [
       "<seaborn.axisgrid.FacetGrid at 0x7fb592830048>"
      ]
     },
     "execution_count": 30,
     "metadata": {},
     "output_type": "execute_result"
    },
    {
     "data": {
      "image/png": "[encoded data removed]",
      "text/plain": [
       "<matplotlib.figure.Figure at 0x7fb592588dd8>"
      ]
     },
     "metadata": {},
     "output_type": "display_data"
    }
   ],
   "source": [
    "x = \"\"\"SELECT  count(*) as volume, sellers, month\n",
    "                \n",
    "      FROM bg_base  where make like ('%xiaomi%')   \n",
    "      \n",
    "     \n",
    "                 \n",
    "    group by  \n",
    "            sellers      \n",
    "      ;\"\"\"\n",
    "    \n",
    "#marketshare.head()\n",
    "xiaomi = pandasql.sqldf(x.lower(), locals())\n",
    "xiaomi = xiaomi.loc[(xiaomi.volume > 2)]\n",
    "#xiaomi_contained = xiaomi.loc[(Seller_share.randvalue > 15)]\n",
    "#Seller_share.head(10)\n",
    "sns.factorplot(x=\"month\", y=\"volume\", hue=\"sellers\", x_order=['Dec','Jan', 'Feb','Mar', 'Apr'], size=4, aspect=3, data = xiaomi)  "
   ]
  },
  {
   "cell_type": "code",
   "execution_count": 42,
   "metadata": {
    "collapsed": false
   },
   "outputs": [
    {
     "data": {
      "text/html": [
       "<div>\n",
       "<table border=\"1\" class=\"dataframe\">\n",
       "  <thead>\n",
       "    <tr style=\"text-align: right;\">\n",
       "      <th></th>\n",
       "      <th>make</th>\n",
       "      <th>title</th>\n",
       "      <th>month</th>\n",
       "      <th>price</th>\n",
       "      <th>sellers</th>\n",
       "      <th>Dropshipper</th>\n",
       "    </tr>\n",
       "  </thead>\n",
       "  <tbody>\n",
       "    <tr>\n",
       "      <th>0</th>\n",
       "      <td>xiaomi</td>\n",
       "      <td>\\n          Xiaomi Redmi 4A 5.0-inch 2GB RAM 1...</td>\n",
       "      <td>Jan</td>\n",
       "      <td>1665.0</td>\n",
       "      <td>BetterWay Lifestyle</td>\n",
       "      <td>0.0</td>\n",
       "    </tr>\n",
       "    <tr>\n",
       "      <th>1</th>\n",
       "      <td>xiaomi</td>\n",
       "      <td>\\n          Xiaomi Redmi Note 4 3gb/64gb Gold ...</td>\n",
       "      <td>Jan</td>\n",
       "      <td>4950.0</td>\n",
       "      <td>Podstar</td>\n",
       "      <td>0.0</td>\n",
       "    </tr>\n",
       "    <tr>\n",
       "      <th>2</th>\n",
       "      <td>xiaomi</td>\n",
       "      <td>\\n          Xiaomi Redmi 3S Standard Edition 2...</td>\n",
       "      <td>Nov</td>\n",
       "      <td>3050.0</td>\n",
       "      <td>THE GADGET SPECIALIST</td>\n",
       "      <td>0.0</td>\n",
       "    </tr>\n",
       "    <tr>\n",
       "      <th>3</th>\n",
       "      <td>xiaomi</td>\n",
       "      <td>\\n          Xiaomi Redmi 2 Pro (FREE BLOOTOOTH...</td>\n",
       "      <td>Dec</td>\n",
       "      <td>2168.0</td>\n",
       "      <td>THE GADGET SPECIALIST</td>\n",
       "      <td>0.0</td>\n",
       "    </tr>\n",
       "    <tr>\n",
       "      <th>4</th>\n",
       "      <td>xiaomi</td>\n",
       "      <td>\\n          Xiaomi Mi Max 6.44 inch 4GB RAM 12...</td>\n",
       "      <td>Dec</td>\n",
       "      <td>5799.0</td>\n",
       "      <td>Rainbow Living</td>\n",
       "      <td>0.0</td>\n",
       "    </tr>\n",
       "    <tr>\n",
       "      <th>5</th>\n",
       "      <td>xiaomi</td>\n",
       "      <td>\\n          Xiaomi Mi4 5-inch 2GB RAM 16GB ROM...</td>\n",
       "      <td>Dec</td>\n",
       "      <td>2499.0</td>\n",
       "      <td>Rainbow Living</td>\n",
       "      <td>0.0</td>\n",
       "    </tr>\n",
       "    <tr>\n",
       "      <th>6</th>\n",
       "      <td>xiaomi</td>\n",
       "      <td>\\n          Xiaomi Redmi 3s 5 Inch Fingerprint...</td>\n",
       "      <td>Dec</td>\n",
       "      <td>2499.0</td>\n",
       "      <td>Rainbow Living</td>\n",
       "      <td>0.0</td>\n",
       "    </tr>\n",
       "    <tr>\n",
       "      <th>7</th>\n",
       "      <td>xiaomi</td>\n",
       "      <td>\\n          Xiaomi Mi Max 6.44 inch 3GB RAM 32...</td>\n",
       "      <td>Dec</td>\n",
       "      <td>3799.0</td>\n",
       "      <td>Rainbow Living</td>\n",
       "      <td>0.0</td>\n",
       "    </tr>\n",
       "    <tr>\n",
       "      <th>8</th>\n",
       "      <td>xiaomi</td>\n",
       "      <td>\\n          Xiaomi Redmi Note 3 Pro 5.5-inch 2...</td>\n",
       "      <td>Dec</td>\n",
       "      <td>2799.0</td>\n",
       "      <td>Rainbow Living</td>\n",
       "      <td>0.0</td>\n",
       "    </tr>\n",
       "    <tr>\n",
       "      <th>9</th>\n",
       "      <td>xiaomi</td>\n",
       "      <td>\\n          Xiaomi Redmi Note 4 Fingerprint 5....</td>\n",
       "      <td>Dec</td>\n",
       "      <td>3699.0</td>\n",
       "      <td>Rainbow Living</td>\n",
       "      <td>0.0</td>\n",
       "    </tr>\n",
       "    <tr>\n",
       "      <th>10</th>\n",
       "      <td>xiaomi</td>\n",
       "      <td>\\n          XIAOMI REDMI 2 PRO - Go Battle Bun...</td>\n",
       "      <td>Dec</td>\n",
       "      <td>2000.0</td>\n",
       "      <td>THE GADGET SPECIALIST</td>\n",
       "      <td>0.0</td>\n",
       "    </tr>\n",
       "    <tr>\n",
       "      <th>11</th>\n",
       "      <td>xiaomi</td>\n",
       "      <td>\\n          Xiaomi Redmi 2 1GB/8GB Dual SIM Bl...</td>\n",
       "      <td>Dec</td>\n",
       "      <td>1070.0</td>\n",
       "      <td>THE GADGET SPECIALIST</td>\n",
       "      <td>0.0</td>\n",
       "    </tr>\n",
       "    <tr>\n",
       "      <th>12</th>\n",
       "      <td>xiaomi</td>\n",
       "      <td>\\n          Xiaomi Redmi Note 3 16GB - Gold - ...</td>\n",
       "      <td>Mar</td>\n",
       "      <td>3399.0</td>\n",
       "      <td>raboob1</td>\n",
       "      <td>0.0</td>\n",
       "    </tr>\n",
       "    <tr>\n",
       "      <th>13</th>\n",
       "      <td>xiaomi</td>\n",
       "      <td>\\n          Xiaomi Redmi Note 4 3gb/64gb Gold ...</td>\n",
       "      <td>Mar</td>\n",
       "      <td>4750.0</td>\n",
       "      <td>Podstar</td>\n",
       "      <td>0.0</td>\n",
       "    </tr>\n",
       "    <tr>\n",
       "      <th>14</th>\n",
       "      <td>xiaomi</td>\n",
       "      <td>\\n          Xiaomi mi5 32gb 3gb ram\\n</td>\n",
       "      <td>Mar</td>\n",
       "      <td>3500.0</td>\n",
       "      <td>IRAZAK997</td>\n",
       "      <td>0.0</td>\n",
       "    </tr>\n",
       "    <tr>\n",
       "      <th>15</th>\n",
       "      <td>xiaomi</td>\n",
       "      <td>\\n          Xiaomi Redmi Note 4 Smartphone  Du...</td>\n",
       "      <td>Apr</td>\n",
       "      <td>4500.0</td>\n",
       "      <td>Zibbedy</td>\n",
       "      <td>0.0</td>\n",
       "    </tr>\n",
       "    <tr>\n",
       "      <th>16</th>\n",
       "      <td>xiaomi</td>\n",
       "      <td>\\n          Xiaomi Redmi Note 4 64GB Gold - Un...</td>\n",
       "      <td>Apr</td>\n",
       "      <td>3100.0</td>\n",
       "      <td>WanakaTech</td>\n",
       "      <td>0.0</td>\n",
       "    </tr>\n",
       "    <tr>\n",
       "      <th>17</th>\n",
       "      <td>xiaomi</td>\n",
       "      <td>\\n          Xiaomi Redmi Note 4 32GB Dark Grey...</td>\n",
       "      <td>Apr</td>\n",
       "      <td>2800.0</td>\n",
       "      <td>WanakaTech</td>\n",
       "      <td>0.0</td>\n",
       "    </tr>\n",
       "    <tr>\n",
       "      <th>18</th>\n",
       "      <td>xiaomi</td>\n",
       "      <td>\\n          Xiaomi Redmi Note 4 32GB Gold - Un...</td>\n",
       "      <td>Apr</td>\n",
       "      <td>2800.0</td>\n",
       "      <td>WanakaTech</td>\n",
       "      <td>0.0</td>\n",
       "    </tr>\n",
       "    <tr>\n",
       "      <th>19</th>\n",
       "      <td>xiaomi</td>\n",
       "      <td>\\n          Redmi 4A - Gold Smartphone\\n</td>\n",
       "      <td>Mar</td>\n",
       "      <td>2469.0</td>\n",
       "      <td>dandashop</td>\n",
       "      <td>0.0</td>\n",
       "    </tr>\n",
       "    <tr>\n",
       "      <th>20</th>\n",
       "      <td>xiaomi</td>\n",
       "      <td>\\n          Xiaomi Redmi 4 2GB+16GB Fingerprin...</td>\n",
       "      <td>Feb</td>\n",
       "      <td>3602.0</td>\n",
       "      <td>Zasttra</td>\n",
       "      <td>2.0</td>\n",
       "    </tr>\n",
       "    <tr>\n",
       "      <th>21</th>\n",
       "      <td>xiaomi</td>\n",
       "      <td>\\n          Xiaomi Redmi 2 1GB/8GB Dual SIM Bl...</td>\n",
       "      <td>Jan</td>\n",
       "      <td>1520.0</td>\n",
       "      <td>THE GADGET SPECIALIST</td>\n",
       "      <td>0.0</td>\n",
       "    </tr>\n",
       "    <tr>\n",
       "      <th>22</th>\n",
       "      <td>xiaomi</td>\n",
       "      <td>\\n          Xiaomi Redmi 3S 4G 2GB/16GB Dual S...</td>\n",
       "      <td>Jan</td>\n",
       "      <td>2600.0</td>\n",
       "      <td>THE GADGET SPECIALIST</td>\n",
       "      <td>0.0</td>\n",
       "    </tr>\n",
       "    <tr>\n",
       "      <th>23</th>\n",
       "      <td>xiaomi</td>\n",
       "      <td>\\n          XIAOMI REDMI 2 PRO - POKEMON EDITI...</td>\n",
       "      <td>Jan</td>\n",
       "      <td>1605.0</td>\n",
       "      <td>THE GADGET SPECIALIST</td>\n",
       "      <td>0.0</td>\n",
       "    </tr>\n",
       "    <tr>\n",
       "      <th>24</th>\n",
       "      <td>xiaomi</td>\n",
       "      <td>\\n          Xiaomi Redmi 4 5.0 inch 2.5D Finge...</td>\n",
       "      <td>Dec</td>\n",
       "      <td>2401.0</td>\n",
       "      <td>BetterWay Lifestyle</td>\n",
       "      <td>0.0</td>\n",
       "    </tr>\n",
       "    <tr>\n",
       "      <th>25</th>\n",
       "      <td>xiaomi</td>\n",
       "      <td>\\n          Xiaomi Redmi Note 4 16GB Smartphon...</td>\n",
       "      <td>Nov</td>\n",
       "      <td>3499.0</td>\n",
       "      <td>JK Trading</td>\n",
       "      <td>0.0</td>\n",
       "    </tr>\n",
       "    <tr>\n",
       "      <th>26</th>\n",
       "      <td>xiaomi</td>\n",
       "      <td>\\n          Xiaomi Redmi 4 5.0 inch 2.5D Finge...</td>\n",
       "      <td>Dec</td>\n",
       "      <td>2959.0</td>\n",
       "      <td>BetterWay Lifestyle</td>\n",
       "      <td>0.0</td>\n",
       "    </tr>\n",
       "    <tr>\n",
       "      <th>27</th>\n",
       "      <td>xiaomi</td>\n",
       "      <td>\\n          Xiaomi Redmi Note 2 (ICASA APPROVE...</td>\n",
       "      <td>Jan</td>\n",
       "      <td>2900.0</td>\n",
       "      <td>THE GADGET SPECIALIST</td>\n",
       "      <td>0.0</td>\n",
       "    </tr>\n",
       "    <tr>\n",
       "      <th>28</th>\n",
       "      <td>xiaomi</td>\n",
       "      <td>\\n          Xiaomi Redmi 2 Pro Smartphone (Bla...</td>\n",
       "      <td>Dec</td>\n",
       "      <td>2599.0</td>\n",
       "      <td>dandashop</td>\n",
       "      <td>0.0</td>\n",
       "    </tr>\n",
       "    <tr>\n",
       "      <th>29</th>\n",
       "      <td>xiaomi</td>\n",
       "      <td>\\n          Xiaomi Redmi Pro 5.5-inch Dual Cam...</td>\n",
       "      <td>Jan</td>\n",
       "      <td>3999.0</td>\n",
       "      <td>Rainbow Living</td>\n",
       "      <td>0.0</td>\n",
       "    </tr>\n",
       "    <tr>\n",
       "      <th>...</th>\n",
       "      <td>...</td>\n",
       "      <td>...</td>\n",
       "      <td>...</td>\n",
       "      <td>...</td>\n",
       "      <td>...</td>\n",
       "      <td>...</td>\n",
       "    </tr>\n",
       "    <tr>\n",
       "      <th>65</th>\n",
       "      <td>xiaomi</td>\n",
       "      <td>\\n          Xiaomi Redmi 2 Pro (FREE BLOOTOOTH...</td>\n",
       "      <td>Dec</td>\n",
       "      <td>1500.0</td>\n",
       "      <td>THE GADGET SPECIALIST</td>\n",
       "      <td>0.0</td>\n",
       "    </tr>\n",
       "    <tr>\n",
       "      <th>66</th>\n",
       "      <td>xiaomi</td>\n",
       "      <td>\\n          Xiaomi Redmi 3S Standard Edition 2...</td>\n",
       "      <td>Dec</td>\n",
       "      <td>3000.0</td>\n",
       "      <td>THE GADGET SPECIALIST</td>\n",
       "      <td>0.0</td>\n",
       "    </tr>\n",
       "    <tr>\n",
       "      <th>67</th>\n",
       "      <td>xiaomi</td>\n",
       "      <td>\\n          XIAOMI Mi 4\\n</td>\n",
       "      <td>Dec</td>\n",
       "      <td>2701.0</td>\n",
       "      <td>THE GADGET SPECIALIST</td>\n",
       "      <td>0.0</td>\n",
       "    </tr>\n",
       "    <tr>\n",
       "      <th>68</th>\n",
       "      <td>xiaomi</td>\n",
       "      <td>\\n          Xiaomi Redmi 4A 5.0-inch 2GB RAM 1...</td>\n",
       "      <td>Mar</td>\n",
       "      <td>2131.0</td>\n",
       "      <td>MacCell</td>\n",
       "      <td>2.0</td>\n",
       "    </tr>\n",
       "    <tr>\n",
       "      <th>69</th>\n",
       "      <td>xiaomi</td>\n",
       "      <td>\\n          Xiaomi Mi 5s Mi5s Plus 5.7 inch Du...</td>\n",
       "      <td>Mar</td>\n",
       "      <td>5969.0</td>\n",
       "      <td>MacCell</td>\n",
       "      <td>2.0</td>\n",
       "    </tr>\n",
       "    <tr>\n",
       "      <th>70</th>\n",
       "      <td>xiaomi</td>\n",
       "      <td>\\n          Xiaomi Mi 5s Mi5s 5.15 inch Finger...</td>\n",
       "      <td>Mar</td>\n",
       "      <td>4974.0</td>\n",
       "      <td>MacCell</td>\n",
       "      <td>2.0</td>\n",
       "    </tr>\n",
       "    <tr>\n",
       "      <th>71</th>\n",
       "      <td>xiaomi</td>\n",
       "      <td>\\n          XIAOMI REDMI 2 PRO - POKEMON EDITI...</td>\n",
       "      <td>Feb</td>\n",
       "      <td>1800.0</td>\n",
       "      <td>THE GADGET SPECIALIST</td>\n",
       "      <td>0.0</td>\n",
       "    </tr>\n",
       "    <tr>\n",
       "      <th>72</th>\n",
       "      <td>xiaomi</td>\n",
       "      <td>\\n          Xiaomi Redmi Note 3 16GB - Gold - ...</td>\n",
       "      <td>Feb</td>\n",
       "      <td>3499.0</td>\n",
       "      <td>raboob1</td>\n",
       "      <td>0.0</td>\n",
       "    </tr>\n",
       "    <tr>\n",
       "      <th>73</th>\n",
       "      <td>xiaomi</td>\n",
       "      <td>\\n          Xiaomi Redmi Note 4 Smart Phone - ...</td>\n",
       "      <td>Feb</td>\n",
       "      <td>4890.0</td>\n",
       "      <td>KoolGear</td>\n",
       "      <td>0.0</td>\n",
       "    </tr>\n",
       "    <tr>\n",
       "      <th>74</th>\n",
       "      <td>xiaomi</td>\n",
       "      <td>\\n          Xiaomi Mi MIX 18k 6.4 inch Edgeles...</td>\n",
       "      <td>Jan</td>\n",
       "      <td>15999.0</td>\n",
       "      <td>ThreeBrothers</td>\n",
       "      <td>0.0</td>\n",
       "    </tr>\n",
       "    <tr>\n",
       "      <th>75</th>\n",
       "      <td>xiaomi</td>\n",
       "      <td>\\n          Xiaomi Redmi Note 4 Fingerprint 5....</td>\n",
       "      <td>Mar</td>\n",
       "      <td>3176.0</td>\n",
       "      <td>Onlinewarehouseza</td>\n",
       "      <td>2.0</td>\n",
       "    </tr>\n",
       "    <tr>\n",
       "      <th>76</th>\n",
       "      <td>xiaomi</td>\n",
       "      <td>\\n          Xiaomi Redmi Note 4 16GB Smartphon...</td>\n",
       "      <td>Mar</td>\n",
       "      <td>4425.0</td>\n",
       "      <td>Toolselect</td>\n",
       "      <td>0.0</td>\n",
       "    </tr>\n",
       "    <tr>\n",
       "      <th>77</th>\n",
       "      <td>xiaomi</td>\n",
       "      <td>\\n          Xiaomi Redmi Note 4 64GB (White) -...</td>\n",
       "      <td>Mar</td>\n",
       "      <td>5581.0</td>\n",
       "      <td>Toolselect</td>\n",
       "      <td>0.0</td>\n",
       "    </tr>\n",
       "    <tr>\n",
       "      <th>78</th>\n",
       "      <td>xiaomi</td>\n",
       "      <td>\\n          Xiaomi Redmi 4A 5.0-inch / 2GB RAM...</td>\n",
       "      <td>Jan</td>\n",
       "      <td>1600.0</td>\n",
       "      <td>Smart IT</td>\n",
       "      <td>0.0</td>\n",
       "    </tr>\n",
       "    <tr>\n",
       "      <th>79</th>\n",
       "      <td>xiaomi</td>\n",
       "      <td>\\n          LOCAL STOCK!! Special Price!! Xiao...</td>\n",
       "      <td>Jan</td>\n",
       "      <td>2499.0</td>\n",
       "      <td>EGBERT123</td>\n",
       "      <td>0.0</td>\n",
       "    </tr>\n",
       "    <tr>\n",
       "      <th>80</th>\n",
       "      <td>xiaomi</td>\n",
       "      <td>\\n          Redmi Note 3 Gold in excellent con...</td>\n",
       "      <td>Jan</td>\n",
       "      <td>2500.0</td>\n",
       "      <td>dwillemse</td>\n",
       "      <td>0.0</td>\n",
       "    </tr>\n",
       "    <tr>\n",
       "      <th>81</th>\n",
       "      <td>xiaomi</td>\n",
       "      <td>\\n          Xiaomi Mi5 5.15-inch 3GB RAM 64GB ...</td>\n",
       "      <td>Mar</td>\n",
       "      <td>3945.0</td>\n",
       "      <td>Onlinewarehouseza</td>\n",
       "      <td>2.0</td>\n",
       "    </tr>\n",
       "    <tr>\n",
       "      <th>82</th>\n",
       "      <td>xiaomi</td>\n",
       "      <td>\\n          Xiaomi Redmi 3 Pro 5 Inch Fingerpr...</td>\n",
       "      <td>Jan</td>\n",
       "      <td>2879.0</td>\n",
       "      <td>MacCell</td>\n",
       "      <td>2.0</td>\n",
       "    </tr>\n",
       "    <tr>\n",
       "      <th>83</th>\n",
       "      <td>xiaomi</td>\n",
       "      <td>\\n          Xiaomi Redmi 2 Pro (Local ICASA ST...</td>\n",
       "      <td>Jan</td>\n",
       "      <td>1800.0</td>\n",
       "      <td>THE GADGET SPECIALIST</td>\n",
       "      <td>0.0</td>\n",
       "    </tr>\n",
       "    <tr>\n",
       "      <th>84</th>\n",
       "      <td>xiaomi</td>\n",
       "      <td>\\n          Xiaomi Redmi 4 Pro 32GB White Silv...</td>\n",
       "      <td>Apr</td>\n",
       "      <td>2800.0</td>\n",
       "      <td>Zibbedy</td>\n",
       "      <td>0.0</td>\n",
       "    </tr>\n",
       "    <tr>\n",
       "      <th>85</th>\n",
       "      <td>xiaomi</td>\n",
       "      <td>\\n          Xiaomi Redmi 2 Pro (FREE BLOOTOOTH...</td>\n",
       "      <td>Dec</td>\n",
       "      <td>1550.0</td>\n",
       "      <td>THE GADGET SPECIALIST</td>\n",
       "      <td>0.0</td>\n",
       "    </tr>\n",
       "    <tr>\n",
       "      <th>86</th>\n",
       "      <td>xiaomi</td>\n",
       "      <td>\\n          Redmi Note 2\\n</td>\n",
       "      <td>Dec</td>\n",
       "      <td>2900.0</td>\n",
       "      <td>THE GADGET SPECIALIST</td>\n",
       "      <td>0.0</td>\n",
       "    </tr>\n",
       "    <tr>\n",
       "      <th>87</th>\n",
       "      <td>xiaomi</td>\n",
       "      <td>\\n          Xiaomi Redmi Note 3 - Officia Stan...</td>\n",
       "      <td>Nov</td>\n",
       "      <td>3895.0</td>\n",
       "      <td>Zasttra</td>\n",
       "      <td>2.0</td>\n",
       "    </tr>\n",
       "    <tr>\n",
       "      <th>88</th>\n",
       "      <td>xiaomi</td>\n",
       "      <td>\\n          Xiaomi Redmi 4 Prime Smartphone - ...</td>\n",
       "      <td>Dec</td>\n",
       "      <td>3299.0</td>\n",
       "      <td>JK Trading</td>\n",
       "      <td>0.0</td>\n",
       "    </tr>\n",
       "    <tr>\n",
       "      <th>89</th>\n",
       "      <td>xiaomi</td>\n",
       "      <td>\\n          Xiaomi Redmi Note 4 Pro - 3GB 64GB...</td>\n",
       "      <td>Feb</td>\n",
       "      <td>4300.0</td>\n",
       "      <td>Neelix</td>\n",
       "      <td>0.0</td>\n",
       "    </tr>\n",
       "    <tr>\n",
       "      <th>90</th>\n",
       "      <td>xiaomi</td>\n",
       "      <td>\\n          Xiaomi Mi Max 6.44 inch 3GB RAM 64...</td>\n",
       "      <td>Dec</td>\n",
       "      <td>4699.0</td>\n",
       "      <td>Rainbow Living</td>\n",
       "      <td>0.0</td>\n",
       "    </tr>\n",
       "    <tr>\n",
       "      <th>91</th>\n",
       "      <td>xiaomi</td>\n",
       "      <td>\\n          Xiaomi Mi Max 6.44 inch 2GB RAM 16...</td>\n",
       "      <td>Dec</td>\n",
       "      <td>3399.0</td>\n",
       "      <td>Rainbow Living</td>\n",
       "      <td>0.0</td>\n",
       "    </tr>\n",
       "    <tr>\n",
       "      <th>92</th>\n",
       "      <td>xiaomi</td>\n",
       "      <td>\\n          Xiaomi Redmi 3s 5 Inch Fingerprint...</td>\n",
       "      <td>Dec</td>\n",
       "      <td>2799.0</td>\n",
       "      <td>Rainbow Living</td>\n",
       "      <td>0.0</td>\n",
       "    </tr>\n",
       "    <tr>\n",
       "      <th>93</th>\n",
       "      <td>xiaomi</td>\n",
       "      <td>\\n          Xiaomi Redmi 3 Pro 5 Inch Fingerpr...</td>\n",
       "      <td>Dec</td>\n",
       "      <td>2849.0</td>\n",
       "      <td>Rainbow Living</td>\n",
       "      <td>0.0</td>\n",
       "    </tr>\n",
       "    <tr>\n",
       "      <th>94</th>\n",
       "      <td>xiaomi</td>\n",
       "      <td>\\n          Xiaomi Mi 5s Mi5s 5.15 inch Finger...</td>\n",
       "      <td>Dec</td>\n",
       "      <td>5999.0</td>\n",
       "      <td>Rainbow Living</td>\n",
       "      <td>0.0</td>\n",
       "    </tr>\n",
       "  </tbody>\n",
       "</table>\n",
       "<p>95 rows × 6 columns</p>\n",
       "</div>"
      ],
      "text/plain": [
       "      make                                              title month    price  \\\n",
       "0   xiaomi  \\n          Xiaomi Redmi 4A 5.0-inch 2GB RAM 1...   Jan   1665.0   \n",
       "1   xiaomi  \\n          Xiaomi Redmi Note 4 3gb/64gb Gold ...   Jan   4950.0   \n",
       "2   xiaomi  \\n          Xiaomi Redmi 3S Standard Edition 2...   Nov   3050.0   \n",
       "3   xiaomi  \\n          Xiaomi Redmi 2 Pro (FREE BLOOTOOTH...   Dec   2168.0   \n",
       "4   xiaomi  \\n          Xiaomi Mi Max 6.44 inch 4GB RAM 12...   Dec   5799.0   \n",
       "5   xiaomi  \\n          Xiaomi Mi4 5-inch 2GB RAM 16GB ROM...   Dec   2499.0   \n",
       "6   xiaomi  \\n          Xiaomi Redmi 3s 5 Inch Fingerprint...   Dec   2499.0   \n",
       "7   xiaomi  \\n          Xiaomi Mi Max 6.44 inch 3GB RAM 32...   Dec   3799.0   \n",
       "8   xiaomi  \\n          Xiaomi Redmi Note 3 Pro 5.5-inch 2...   Dec   2799.0   \n",
       "9   xiaomi  \\n          Xiaomi Redmi Note 4 Fingerprint 5....   Dec   3699.0   \n",
       "10  xiaomi  \\n          XIAOMI REDMI 2 PRO - Go Battle Bun...   Dec   2000.0   \n",
       "11  xiaomi  \\n          Xiaomi Redmi 2 1GB/8GB Dual SIM Bl...   Dec   1070.0   \n",
       "12  xiaomi  \\n          Xiaomi Redmi Note 3 16GB - Gold - ...   Mar   3399.0   \n",
       "13  xiaomi  \\n          Xiaomi Redmi Note 4 3gb/64gb Gold ...   Mar   4750.0   \n",
       "14  xiaomi      \\n          Xiaomi mi5 32gb 3gb ram\\n           Mar   3500.0   \n",
       "15  xiaomi  \\n          Xiaomi Redmi Note 4 Smartphone  Du...   Apr   4500.0   \n",
       "16  xiaomi  \\n          Xiaomi Redmi Note 4 64GB Gold - Un...   Apr   3100.0   \n",
       "17  xiaomi  \\n          Xiaomi Redmi Note 4 32GB Dark Grey...   Apr   2800.0   \n",
       "18  xiaomi  \\n          Xiaomi Redmi Note 4 32GB Gold - Un...   Apr   2800.0   \n",
       "19  xiaomi   \\n          Redmi 4A - Gold Smartphone\\n           Mar   2469.0   \n",
       "20  xiaomi  \\n          Xiaomi Redmi 4 2GB+16GB Fingerprin...   Feb   3602.0   \n",
       "21  xiaomi  \\n          Xiaomi Redmi 2 1GB/8GB Dual SIM Bl...   Jan   1520.0   \n",
       "22  xiaomi  \\n          Xiaomi Redmi 3S 4G 2GB/16GB Dual S...   Jan   2600.0   \n",
       "23  xiaomi  \\n          XIAOMI REDMI 2 PRO - POKEMON EDITI...   Jan   1605.0   \n",
       "24  xiaomi  \\n          Xiaomi Redmi 4 5.0 inch 2.5D Finge...   Dec   2401.0   \n",
       "25  xiaomi  \\n          Xiaomi Redmi Note 4 16GB Smartphon...   Nov   3499.0   \n",
       "26  xiaomi  \\n          Xiaomi Redmi 4 5.0 inch 2.5D Finge...   Dec   2959.0   \n",
       "27  xiaomi  \\n          Xiaomi Redmi Note 2 (ICASA APPROVE...   Jan   2900.0   \n",
       "28  xiaomi  \\n          Xiaomi Redmi 2 Pro Smartphone (Bla...   Dec   2599.0   \n",
       "29  xiaomi  \\n          Xiaomi Redmi Pro 5.5-inch Dual Cam...   Jan   3999.0   \n",
       "..     ...                                                ...   ...      ...   \n",
       "65  xiaomi  \\n          Xiaomi Redmi 2 Pro (FREE BLOOTOOTH...   Dec   1500.0   \n",
       "66  xiaomi  \\n          Xiaomi Redmi 3S Standard Edition 2...   Dec   3000.0   \n",
       "67  xiaomi                  \\n          XIAOMI Mi 4\\n           Dec   2701.0   \n",
       "68  xiaomi  \\n          Xiaomi Redmi 4A 5.0-inch 2GB RAM 1...   Mar   2131.0   \n",
       "69  xiaomi  \\n          Xiaomi Mi 5s Mi5s Plus 5.7 inch Du...   Mar   5969.0   \n",
       "70  xiaomi  \\n          Xiaomi Mi 5s Mi5s 5.15 inch Finger...   Mar   4974.0   \n",
       "71  xiaomi  \\n          XIAOMI REDMI 2 PRO - POKEMON EDITI...   Feb   1800.0   \n",
       "72  xiaomi  \\n          Xiaomi Redmi Note 3 16GB - Gold - ...   Feb   3499.0   \n",
       "73  xiaomi  \\n          Xiaomi Redmi Note 4 Smart Phone - ...   Feb   4890.0   \n",
       "74  xiaomi  \\n          Xiaomi Mi MIX 18k 6.4 inch Edgeles...   Jan  15999.0   \n",
       "75  xiaomi  \\n          Xiaomi Redmi Note 4 Fingerprint 5....   Mar   3176.0   \n",
       "76  xiaomi  \\n          Xiaomi Redmi Note 4 16GB Smartphon...   Mar   4425.0   \n",
       "77  xiaomi  \\n          Xiaomi Redmi Note 4 64GB (White) -...   Mar   5581.0   \n",
       "78  xiaomi  \\n          Xiaomi Redmi 4A 5.0-inch / 2GB RAM...   Jan   1600.0   \n",
       "79  xiaomi  \\n          LOCAL STOCK!! Special Price!! Xiao...   Jan   2499.0   \n",
       "80  xiaomi  \\n          Redmi Note 3 Gold in excellent con...   Jan   2500.0   \n",
       "81  xiaomi  \\n          Xiaomi Mi5 5.15-inch 3GB RAM 64GB ...   Mar   3945.0   \n",
       "82  xiaomi  \\n          Xiaomi Redmi 3 Pro 5 Inch Fingerpr...   Jan   2879.0   \n",
       "83  xiaomi  \\n          Xiaomi Redmi 2 Pro (Local ICASA ST...   Jan   1800.0   \n",
       "84  xiaomi  \\n          Xiaomi Redmi 4 Pro 32GB White Silv...   Apr   2800.0   \n",
       "85  xiaomi  \\n          Xiaomi Redmi 2 Pro (FREE BLOOTOOTH...   Dec   1550.0   \n",
       "86  xiaomi                 \\n          Redmi Note 2\\n           Dec   2900.0   \n",
       "87  xiaomi  \\n          Xiaomi Redmi Note 3 - Officia Stan...   Nov   3895.0   \n",
       "88  xiaomi  \\n          Xiaomi Redmi 4 Prime Smartphone - ...   Dec   3299.0   \n",
       "89  xiaomi  \\n          Xiaomi Redmi Note 4 Pro - 3GB 64GB...   Feb   4300.0   \n",
       "90  xiaomi  \\n          Xiaomi Mi Max 6.44 inch 3GB RAM 64...   Dec   4699.0   \n",
       "91  xiaomi  \\n          Xiaomi Mi Max 6.44 inch 2GB RAM 16...   Dec   3399.0   \n",
       "92  xiaomi  \\n          Xiaomi Redmi 3s 5 Inch Fingerprint...   Dec   2799.0   \n",
       "93  xiaomi  \\n          Xiaomi Redmi 3 Pro 5 Inch Fingerpr...   Dec   2849.0   \n",
       "94  xiaomi  \\n          Xiaomi Mi 5s Mi5s 5.15 inch Finger...   Dec   5999.0   \n",
       "\n",
       "                  sellers  Dropshipper  \n",
       "0     BetterWay Lifestyle          0.0  \n",
       "1                 Podstar          0.0  \n",
       "2   THE GADGET SPECIALIST          0.0  \n",
       "3   THE GADGET SPECIALIST          0.0  \n",
       "4          Rainbow Living          0.0  \n",
       "5          Rainbow Living          0.0  \n",
       "6          Rainbow Living          0.0  \n",
       "7          Rainbow Living          0.0  \n",
       "8          Rainbow Living          0.0  \n",
       "9          Rainbow Living          0.0  \n",
       "10  THE GADGET SPECIALIST          0.0  \n",
       "11  THE GADGET SPECIALIST          0.0  \n",
       "12                raboob1          0.0  \n",
       "13                Podstar          0.0  \n",
       "14              IRAZAK997          0.0  \n",
       "15                Zibbedy          0.0  \n",
       "16             WanakaTech          0.0  \n",
       "17             WanakaTech          0.0  \n",
       "18             WanakaTech          0.0  \n",
       "19              dandashop          0.0  \n",
       "20                Zasttra          2.0  \n",
       "21  THE GADGET SPECIALIST          0.0  \n",
       "22  THE GADGET SPECIALIST          0.0  \n",
       "23  THE GADGET SPECIALIST          0.0  \n",
       "24    BetterWay Lifestyle          0.0  \n",
       "25             JK Trading          0.0  \n",
       "26    BetterWay Lifestyle          0.0  \n",
       "27  THE GADGET SPECIALIST          0.0  \n",
       "28              dandashop          0.0  \n",
       "29         Rainbow Living          0.0  \n",
       "..                    ...          ...  \n",
       "65  THE GADGET SPECIALIST          0.0  \n",
       "66  THE GADGET SPECIALIST          0.0  \n",
       "67  THE GADGET SPECIALIST          0.0  \n",
       "68                MacCell          2.0  \n",
       "69                MacCell          2.0  \n",
       "70                MacCell          2.0  \n",
       "71  THE GADGET SPECIALIST          0.0  \n",
       "72                raboob1          0.0  \n",
       "73               KoolGear          0.0  \n",
       "74          ThreeBrothers          0.0  \n",
       "75      Onlinewarehouseza          2.0  \n",
       "76             Toolselect          0.0  \n",
       "77             Toolselect          0.0  \n",
       "78               Smart IT          0.0  \n",
       "79              EGBERT123          0.0  \n",
       "80              dwillemse          0.0  \n",
       "81      Onlinewarehouseza          2.0  \n",
       "82                MacCell          2.0  \n",
       "83  THE GADGET SPECIALIST          0.0  \n",
       "84                Zibbedy          0.0  \n",
       "85  THE GADGET SPECIALIST          0.0  \n",
       "86  THE GADGET SPECIALIST          0.0  \n",
       "87                Zasttra          2.0  \n",
       "88             JK Trading          0.0  \n",
       "89                 Neelix          0.0  \n",
       "90         Rainbow Living          0.0  \n",
       "91         Rainbow Living          0.0  \n",
       "92         Rainbow Living          0.0  \n",
       "93         Rainbow Living          0.0  \n",
       "94         Rainbow Living          0.0  \n",
       "\n",
       "[95 rows x 6 columns]"
      ]
     },
     "execution_count": 42,
     "metadata": {},
     "output_type": "execute_result"
    }
   ],
   "source": [
    "t = \"\"\"SELECT  *\n",
    "                \n",
    "      FROM bg_base   where make = (\"xiaomi\") \n",
    "\n",
    "      ;\"\"\"\n",
    "    \n",
    "#marketshare.head()\n",
    "titles = pandasql.sqldf(t.lower(), locals())\n",
    "titles"
   ]
  },
  {
   "cell_type": "code",
   "execution_count": null,
   "metadata": {
    "collapsed": true
   },
   "outputs": [],
   "source": []
  }
 ],
 "metadata": {
  "kernelspec": {
   "display_name": "Python 3",
   "language": "python",
   "name": "python3"
  },
  "language_info": {
   "codemirror_mode": {
    "name": "ipython",
    "version": 3
   },
   "file_extension": ".py",
   "mimetype": "text/x-python",
   "name": "python",
   "nbconvert_exporter": "python",
   "pygments_lexer": "ipython3",
   "version": "3.6.0"
  }
 },
 "nbformat": 4,
 "nbformat_minor": 2
}
